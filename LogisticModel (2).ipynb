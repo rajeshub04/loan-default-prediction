{
 "cells": [
  {
   "cell_type": "code",
   "execution_count": 2,
   "id": "5fd6f0ae-748b-4a3a-bb04-237e402b5291",
   "metadata": {},
   "outputs": [],
   "source": [
    "\n",
    "import numpy as np\n",
    "import pandas as pd\n",
    "import seaborn as sns \n",
    "import matplotlib.pyplot as plt\n",
    "plt.style=\"seaborn\"\n",
    "%matplotlib inline\n",
    "import warnings\n",
    "warnings.filterwarnings('ignore')"
   ]
  },
  {
   "cell_type": "code",
   "execution_count": 3,
   "id": "25173481-9437-496c-873b-0d9f0d9c00a4",
   "metadata": {},
   "outputs": [],
   "source": [
    "# Load DataFrames from CSV\n",
    "X_train_pca_df = pd.read_csv(\"X_train_pca.csv\")\n",
    "X_val_pca_df = pd.read_csv(\"X_val.csv\")\n",
    "X_test_pca_df = pd.read_csv(\"X_test.csv\")\n",
    "Y_train = pd.read_csv(\"Y_train.csv\")\n",
    "Y_val = pd.read_csv(\"Y_val.csv\")\n",
    "Y_test = pd.read_csv(\"Y_test.csv\")"
   ]
  },
  {
   "cell_type": "code",
   "execution_count": 4,
   "id": "d847da7f-6f92-4921-a406-7537a0501398",
   "metadata": {},
   "outputs": [
    {
     "name": "stdout",
     "output_type": "stream",
     "text": [
      "(104188, 20) (8485, 20) (8486, 20) (104188, 1) (8485, 1) (8486, 1)\n"
     ]
    }
   ],
   "source": [
    "print(\n",
    "    X_train_pca_df.shape,\n",
    "    X_val_pca_df.shape,\n",
    "    X_test_pca_df.shape,\n",
    "    Y_train.shape,\n",
    "    Y_val.shape,\n",
    "    Y_test.shape,\n",
    ")"
   ]
  },
  {
   "cell_type": "code",
   "execution_count": 5,
   "id": "180434d1-9ea0-4507-ad2b-32d0ee96ef9e",
   "metadata": {},
   "outputs": [
    {
     "name": "stdout",
     "output_type": "stream",
     "text": [
      "<class 'pandas.core.frame.DataFrame'>\n",
      "RangeIndex: 8485 entries, 0 to 8484\n",
      "Data columns (total 1 columns):\n",
      " #   Column      Non-Null Count  Dtype\n",
      "---  ------      --------------  -----\n",
      " 0   LoanStatus  8485 non-null   int64\n",
      "dtypes: int64(1)\n",
      "memory usage: 66.4 KB\n"
     ]
    }
   ],
   "source": [
    "#X_val_pca_df.info()\n",
    "Y_val.info()"
   ]
  },
  {
   "cell_type": "code",
   "execution_count": 6,
   "id": "1936fb62-4e8e-4cd5-89cc-6f5a5e2b1674",
   "metadata": {},
   "outputs": [],
   "source": [
    "import numpy as np\n",
    "import pandas as pd\n",
    "\n",
    "class LogisticRegressionImplementation:\n",
    "    def __init__(self, learning_rate=0.005, num_iterations=50000):\n",
    "        self.learning_rate = learning_rate\n",
    "        self.num_iterations = num_iterations\n",
    "        self.weights = None\n",
    "        self.bias = None\n",
    "        \n",
    "    def sigmoid(self, z):\n",
    "        return 1 / (1 + np.exp(-z))\n",
    "    \n",
    "    def initialize_weights(self, num_features):\n",
    "        self.weights = np.zeros((num_features, 1))\n",
    "        self.bias = 0\n",
    "    \n",
    "    def fit(self, X, y):\n",
    "        m, n = X.shape\n",
    "        self.initialize_weights(n)\n",
    "        \n",
    "        y_values = y.values if isinstance(y, pd.DataFrame) else y\n",
    "        \n",
    "        for i in range(self.num_iterations):\n",
    "            # Forward propagation\n",
    "            z = np.dot(X, self.weights) + self.bias\n",
    "            A = self.sigmoid(z)\n",
    "            \n",
    "            # Compute cost\n",
    "            cost = -1/m * np.sum(y_values * np.log(A) + (1-y_values) * np.log(1-A))\n",
    "            \n",
    "            # Backward propagation\n",
    "            dz = A - y_values\n",
    "            dw = 1/m * np.dot(X.T, dz)\n",
    "            db = 1/m * np.sum(dz)\n",
    "            \n",
    "            # Update parameters\n",
    "            self.weights -= self.learning_rate * dw\n",
    "            self.bias -= self.learning_rate * db\n",
    "            \n",
    "            # Print cost at intervals\n",
    "            if i % 100 == 0:\n",
    "                print(f\"Iteration {i}: Cost = {cost}\")\n",
    "                \n",
    "    def predict_proba(self, X):\n",
    "        z = np.dot(X, self.weights) + self.bias\n",
    "        return self.sigmoid(z)\n",
    "    \n",
    "    def predict(self, X, threshold=0.5):\n",
    "        proba = self.predict_proba(X)\n",
    "        return (proba >= threshold).astype(int)\n",
    "\n"
   ]
  },
  {
   "cell_type": "code",
   "execution_count": 7,
   "id": "4680596e-513a-4cc3-bde8-94969863c363",
   "metadata": {},
   "outputs": [
    {
     "name": "stdout",
     "output_type": "stream",
     "text": [
      "Iteration 0: Cost = 0.6931471805599453\n",
      "Iteration 100: Cost = 0.49951769461953804\n",
      "Iteration 200: Cost = 0.42775194091794944\n",
      "Iteration 300: Cost = 0.3908003383661637\n",
      "Iteration 400: Cost = 0.3678052710425936\n",
      "Iteration 500: Cost = 0.3518113623781956\n"
     ]
    },
    {
     "ename": "KeyboardInterrupt",
     "evalue": "",
     "output_type": "error",
     "traceback": [
      "\u001b[1;31m---------------------------------------------------------------------------\u001b[0m",
      "\u001b[1;31mKeyboardInterrupt\u001b[0m                         Traceback (most recent call last)",
      "Cell \u001b[1;32mIn[7], line 3\u001b[0m\n\u001b[0;32m      1\u001b[0m \u001b[38;5;66;03m# Initialize and fit the logistic regression model\u001b[39;00m\n\u001b[0;32m      2\u001b[0m model \u001b[38;5;241m=\u001b[39m LogisticRegressionImplementation()\n\u001b[1;32m----> 3\u001b[0m \u001b[43mmodel\u001b[49m\u001b[38;5;241;43m.\u001b[39;49m\u001b[43mfit\u001b[49m\u001b[43m(\u001b[49m\u001b[43mX_train_pca_df\u001b[49m\u001b[43m,\u001b[49m\u001b[43m \u001b[49m\u001b[43mY_train\u001b[49m\u001b[43m)\u001b[49m\n",
      "Cell \u001b[1;32mIn[6], line 34\u001b[0m, in \u001b[0;36mLogisticRegressionImplementation.fit\u001b[1;34m(self, X, y)\u001b[0m\n\u001b[0;32m     32\u001b[0m \u001b[38;5;66;03m# Backward propagation\u001b[39;00m\n\u001b[0;32m     33\u001b[0m dz \u001b[38;5;241m=\u001b[39m A \u001b[38;5;241m-\u001b[39m y_values\n\u001b[1;32m---> 34\u001b[0m dw \u001b[38;5;241m=\u001b[39m \u001b[38;5;241m1\u001b[39m\u001b[38;5;241m/\u001b[39mm \u001b[38;5;241m*\u001b[39m \u001b[43mnp\u001b[49m\u001b[38;5;241;43m.\u001b[39;49m\u001b[43mdot\u001b[49m\u001b[43m(\u001b[49m\u001b[43mX\u001b[49m\u001b[38;5;241;43m.\u001b[39;49m\u001b[43mT\u001b[49m\u001b[43m,\u001b[49m\u001b[43m \u001b[49m\u001b[43mdz\u001b[49m\u001b[43m)\u001b[49m\n\u001b[0;32m     35\u001b[0m db \u001b[38;5;241m=\u001b[39m \u001b[38;5;241m1\u001b[39m\u001b[38;5;241m/\u001b[39mm \u001b[38;5;241m*\u001b[39m np\u001b[38;5;241m.\u001b[39msum(dz)\n\u001b[0;32m     37\u001b[0m \u001b[38;5;66;03m# Update parameters\u001b[39;00m\n",
      "File \u001b[1;32m<__array_function__ internals>:180\u001b[0m, in \u001b[0;36mdot\u001b[1;34m(*args, **kwargs)\u001b[0m\n",
      "\u001b[1;31mKeyboardInterrupt\u001b[0m: "
     ]
    }
   ],
   "source": [
    "\n",
    "# Initialize and fit the logistic regression model\n",
    "model = LogisticRegressionImplementation()\n",
    "model.fit(X_train_pca_df, Y_train)\n"
   ]
  },
  {
   "cell_type": "code",
   "execution_count": 8,
   "id": "d5c84050-b62b-4e54-a380-08eaabf00318",
   "metadata": {},
   "outputs": [],
   "source": [
    "# Predict probabilities\n",
    "probabilities = model.predict_proba(X_test_pca_df)\n",
    "\n",
    "# Predict class labels\n",
    "predictions = model.predict(X_test_pca_df)\n"
   ]
  },
  {
   "cell_type": "code",
   "execution_count": 9,
   "id": "a5976416-b976-4d45-bb15-773f772464e5",
   "metadata": {},
   "outputs": [
    {
     "name": "stdout",
     "output_type": "stream",
     "text": [
      "Accuracy: 0.5889132724129118\n"
     ]
    }
   ],
   "source": [
    "# Calculate accuracy\n",
    "accuracy = (predictions == Y_test.values.flatten()).mean()\n",
    "\n",
    "# Print accuracy\n",
    "print(\"Accuracy:\", accuracy)\n"
   ]
  },
  {
   "cell_type": "code",
   "execution_count": 10,
   "id": "ef8a4e60-b1cb-4122-ae55-57f00616b347",
   "metadata": {},
   "outputs": [],
   "source": [
    "# Predict probabilities\n",
    "probabilities_val = model.predict_proba(X_val_pca_df)\n",
    "\n",
    "# Predict class labels\n",
    "predictions_val = model.predict(X_val_pca_df)\n"
   ]
  },
  {
   "cell_type": "code",
   "execution_count": 11,
   "id": "821c829c-59c6-4237-9464-d9aba0a9695f",
   "metadata": {},
   "outputs": [
    {
     "name": "stdout",
     "output_type": "stream",
     "text": [
      "Accuracy of Val set: 0.5865037577144873\n"
     ]
    }
   ],
   "source": [
    "# Calculate accuracy\n",
    "accuracy_val = (predictions_val == Y_val.values.flatten()).mean()\n",
    "\n",
    "# Print accuracy\n",
    "print(\"Accuracy of Val set:\", accuracy_val)\n"
   ]
  },
  {
   "cell_type": "code",
   "execution_count": 22,
   "id": "b2c2e2bb-a073-4e71-a6a1-cdf97f81f387",
   "metadata": {},
   "outputs": [
    {
     "name": "stdout",
     "output_type": "stream",
     "text": [
      "Iteration 0: Cost = 0.6931471805599453\n",
      "Iteration 100: Cost = 0.42754704078103184\n",
      "Iteration 200: Cost = 0.36770008108368146\n",
      "Iteration 300: Cost = 0.3398148634643437\n",
      "Iteration 400: Cost = 0.32297409333257593\n",
      "Iteration 500: Cost = 0.311485483568656\n",
      "Iteration 600: Cost = 0.3030804768098952\n",
      "Iteration 700: Cost = 0.2966420215520082\n",
      "Iteration 800: Cost = 0.29154366533002457\n",
      "Iteration 900: Cost = 0.2874023558324278\n",
      "Iteration 0: Cost = 0.6931471805599453\n",
      "Iteration 100: Cost = 0.42754704078103184\n",
      "Iteration 200: Cost = 0.36770008108368146\n",
      "Iteration 300: Cost = 0.3398148634643437\n",
      "Iteration 400: Cost = 0.32297409333257593\n",
      "Iteration 500: Cost = 0.311485483568656\n",
      "Iteration 600: Cost = 0.3030804768098952\n",
      "Iteration 700: Cost = 0.2966420215520082\n",
      "Iteration 800: Cost = 0.29154366533002457\n",
      "Iteration 900: Cost = 0.2874023558324278\n",
      "Iteration 1000: Cost = 0.2839690438952737\n",
      "Iteration 1100: Cost = 0.28107419096271813\n",
      "Iteration 1200: Cost = 0.27859817030027\n",
      "Iteration 1300: Cost = 0.276454096798607\n",
      "Iteration 1400: Cost = 0.2745773387143936\n",
      "Iteration 0: Cost = 0.6931471805599453\n",
      "Iteration 100: Cost = 0.42754704078103184\n",
      "Iteration 200: Cost = 0.36770008108368146\n",
      "Iteration 300: Cost = 0.3398148634643437\n",
      "Iteration 400: Cost = 0.32297409333257593\n",
      "Iteration 500: Cost = 0.311485483568656\n",
      "Iteration 600: Cost = 0.3030804768098952\n",
      "Iteration 700: Cost = 0.2966420215520082\n",
      "Iteration 800: Cost = 0.29154366533002457\n",
      "Iteration 900: Cost = 0.2874023558324278\n",
      "Iteration 1000: Cost = 0.2839690438952737\n",
      "Iteration 1100: Cost = 0.28107419096271813\n",
      "Iteration 1200: Cost = 0.27859817030027\n",
      "Iteration 1300: Cost = 0.276454096798607\n",
      "Iteration 1400: Cost = 0.2745773387143936\n",
      "Iteration 1500: Cost = 0.272918838228313\n",
      "Iteration 1600: Cost = 0.27144070854490887\n",
      "Iteration 1700: Cost = 0.27011324622287936\n",
      "Iteration 1800: Cost = 0.2689128529479277\n",
      "Iteration 1900: Cost = 0.2678205585464732\n",
      "Iteration 0: Cost = 0.6931471805599453\n",
      "Iteration 100: Cost = 0.42754704078103184\n",
      "Iteration 200: Cost = 0.36770008108368146\n",
      "Iteration 300: Cost = 0.3398148634643437\n",
      "Iteration 400: Cost = 0.32297409333257593\n",
      "Iteration 500: Cost = 0.311485483568656\n",
      "Iteration 600: Cost = 0.3030804768098952\n",
      "Iteration 700: Cost = 0.2966420215520082\n",
      "Iteration 800: Cost = 0.29154366533002457\n",
      "Iteration 900: Cost = 0.2874023558324278\n",
      "Iteration 1000: Cost = 0.2839690438952737\n",
      "Iteration 1100: Cost = 0.28107419096271813\n",
      "Iteration 1200: Cost = 0.27859817030027\n",
      "Iteration 1300: Cost = 0.276454096798607\n",
      "Iteration 1400: Cost = 0.2745773387143936\n",
      "Iteration 1500: Cost = 0.272918838228313\n",
      "Iteration 1600: Cost = 0.27144070854490887\n",
      "Iteration 1700: Cost = 0.27011324622287936\n",
      "Iteration 1800: Cost = 0.2689128529479277\n",
      "Iteration 1900: Cost = 0.2678205585464732\n",
      "Iteration 2000: Cost = 0.26682095138269973\n",
      "Iteration 2100: Cost = 0.2659013907964232\n",
      "Iteration 2200: Cost = 0.2650514185564082\n",
      "Iteration 2300: Cost = 0.26426231314586257\n",
      "Iteration 2400: Cost = 0.263526748129774\n",
      "Iteration 0: Cost = 0.6931471805599453\n",
      "Iteration 100: Cost = 0.30278794418425475\n",
      "Iteration 200: Cost = 0.2784787536789071\n",
      "Iteration 300: Cost = 0.26884530635639786\n",
      "Iteration 400: Cost = 0.2634816205079206\n",
      "Iteration 500: Cost = 0.2599135368162698\n",
      "Iteration 600: Cost = 0.2572690929819405\n",
      "Iteration 700: Cost = 0.25516727223809\n",
      "Iteration 800: Cost = 0.2534159048725764\n",
      "Iteration 900: Cost = 0.25190734339409226\n",
      "Iteration 0: Cost = 0.6931471805599453\n",
      "Iteration 100: Cost = 0.30278794418425475\n",
      "Iteration 200: Cost = 0.2784787536789071\n",
      "Iteration 300: Cost = 0.26884530635639786\n",
      "Iteration 400: Cost = 0.2634816205079206\n",
      "Iteration 500: Cost = 0.2599135368162698\n",
      "Iteration 600: Cost = 0.2572690929819405\n",
      "Iteration 700: Cost = 0.25516727223809\n",
      "Iteration 800: Cost = 0.2534159048725764\n",
      "Iteration 900: Cost = 0.25190734339409226\n",
      "Iteration 1000: Cost = 0.25057620871630065\n",
      "Iteration 1100: Cost = 0.24938016325480053\n",
      "Iteration 1200: Cost = 0.24829034083530718\n",
      "Iteration 1300: Cost = 0.24728622555257562\n",
      "Iteration 1400: Cost = 0.24635273771130634\n",
      "Iteration 0: Cost = 0.6931471805599453\n",
      "Iteration 100: Cost = 0.30278794418425475\n",
      "Iteration 200: Cost = 0.2784787536789071\n",
      "Iteration 300: Cost = 0.26884530635639786\n",
      "Iteration 400: Cost = 0.2634816205079206\n",
      "Iteration 500: Cost = 0.2599135368162698\n",
      "Iteration 600: Cost = 0.2572690929819405\n",
      "Iteration 700: Cost = 0.25516727223809\n",
      "Iteration 800: Cost = 0.2534159048725764\n",
      "Iteration 900: Cost = 0.25190734339409226\n",
      "Iteration 1000: Cost = 0.25057620871630065\n",
      "Iteration 1100: Cost = 0.24938016325480053\n",
      "Iteration 1200: Cost = 0.24829034083530718\n",
      "Iteration 1300: Cost = 0.24728622555257562\n",
      "Iteration 1400: Cost = 0.24635273771130634\n",
      "Iteration 1500: Cost = 0.2454784835131528\n",
      "Iteration 1600: Cost = 0.2446546527438481\n",
      "Iteration 1700: Cost = 0.2438742963195695\n",
      "Iteration 1800: Cost = 0.24313183725157383\n",
      "Iteration 1900: Cost = 0.2424227309035874\n",
      "Iteration 0: Cost = 0.6931471805599453\n",
      "Iteration 100: Cost = 0.30278794418425475\n",
      "Iteration 200: Cost = 0.2784787536789071\n",
      "Iteration 300: Cost = 0.26884530635639786\n",
      "Iteration 400: Cost = 0.2634816205079206\n",
      "Iteration 500: Cost = 0.2599135368162698\n",
      "Iteration 600: Cost = 0.2572690929819405\n",
      "Iteration 700: Cost = 0.25516727223809\n",
      "Iteration 800: Cost = 0.2534159048725764\n",
      "Iteration 900: Cost = 0.25190734339409226\n",
      "Iteration 1000: Cost = 0.25057620871630065\n",
      "Iteration 1100: Cost = 0.24938016325480053\n",
      "Iteration 1200: Cost = 0.24829034083530718\n",
      "Iteration 1300: Cost = 0.24728622555257562\n",
      "Iteration 1400: Cost = 0.24635273771130634\n",
      "Iteration 1500: Cost = 0.2454784835131528\n",
      "Iteration 1600: Cost = 0.2446546527438481\n",
      "Iteration 1700: Cost = 0.2438742963195695\n",
      "Iteration 1800: Cost = 0.24313183725157383\n",
      "Iteration 1900: Cost = 0.2424227309035874\n",
      "Iteration 2000: Cost = 0.24174322383093372\n",
      "Iteration 2100: Cost = 0.24109017935153285\n",
      "Iteration 2200: Cost = 0.24046094918680183\n",
      "Iteration 2300: Cost = 0.23985327743254023\n",
      "Iteration 2400: Cost = 0.23926522754837362\n",
      "Iteration 0: Cost = 0.6931471805599453\n",
      "Iteration 100: Cost = 0.2808043620457367\n",
      "Iteration 200: Cost = 0.26494925059417285\n",
      "Iteration 300: Cost = 0.25847613661136587\n",
      "Iteration 400: Cost = 0.25452957521480424\n",
      "Iteration 500: Cost = 0.2516573892243513\n",
      "Iteration 600: Cost = 0.24936563042848398\n",
      "Iteration 700: Cost = 0.24743553253565506\n",
      "Iteration 800: Cost = 0.24575238196063726\n",
      "Iteration 900: Cost = 0.2442488500754886\n",
      "Iteration 0: Cost = 0.6931471805599453\n",
      "Iteration 100: Cost = 0.2808043620457367\n",
      "Iteration 200: Cost = 0.26494925059417285\n",
      "Iteration 300: Cost = 0.25847613661136587\n",
      "Iteration 400: Cost = 0.25452957521480424\n",
      "Iteration 500: Cost = 0.2516573892243513\n",
      "Iteration 600: Cost = 0.24936563042848398\n",
      "Iteration 700: Cost = 0.24743553253565506\n",
      "Iteration 800: Cost = 0.24575238196063726\n",
      "Iteration 900: Cost = 0.2442488500754886\n",
      "Iteration 1000: Cost = 0.24288215559726423\n",
      "Iteration 1100: Cost = 0.2416234348136645\n",
      "Iteration 1200: Cost = 0.2404522779284742\n",
      "Iteration 1300: Cost = 0.239353714392325\n",
      "Iteration 1400: Cost = 0.23831644851256362\n",
      "Iteration 0: Cost = 0.6931471805599453\n",
      "Iteration 100: Cost = 0.2808043620457367\n",
      "Iteration 200: Cost = 0.26494925059417285\n",
      "Iteration 300: Cost = 0.25847613661136587\n",
      "Iteration 400: Cost = 0.25452957521480424\n",
      "Iteration 500: Cost = 0.2516573892243513\n",
      "Iteration 600: Cost = 0.24936563042848398\n",
      "Iteration 700: Cost = 0.24743553253565506\n",
      "Iteration 800: Cost = 0.24575238196063726\n",
      "Iteration 900: Cost = 0.2442488500754886\n",
      "Iteration 1000: Cost = 0.24288215559726423\n",
      "Iteration 1100: Cost = 0.2416234348136645\n",
      "Iteration 1200: Cost = 0.2404522779284742\n",
      "Iteration 1300: Cost = 0.239353714392325\n",
      "Iteration 1400: Cost = 0.23831644851256362\n",
      "Iteration 1500: Cost = 0.2373317687156083\n",
      "Iteration 1600: Cost = 0.23639283789243387\n",
      "Iteration 1700: Cost = 0.23549421066473927\n",
      "Iteration 1800: Cost = 0.2346314932229928\n",
      "Iteration 1900: Cost = 0.2338010973409458\n",
      "Iteration 0: Cost = 0.6931471805599453\n",
      "Iteration 100: Cost = 0.2808043620457367\n",
      "Iteration 200: Cost = 0.26494925059417285\n",
      "Iteration 300: Cost = 0.25847613661136587\n",
      "Iteration 400: Cost = 0.25452957521480424\n",
      "Iteration 500: Cost = 0.2516573892243513\n",
      "Iteration 600: Cost = 0.24936563042848398\n",
      "Iteration 700: Cost = 0.24743553253565506\n",
      "Iteration 800: Cost = 0.24575238196063726\n",
      "Iteration 900: Cost = 0.2442488500754886\n",
      "Iteration 1000: Cost = 0.24288215559726423\n",
      "Iteration 1100: Cost = 0.2416234348136645\n",
      "Iteration 1200: Cost = 0.2404522779284742\n",
      "Iteration 1300: Cost = 0.239353714392325\n",
      "Iteration 1400: Cost = 0.23831644851256362\n",
      "Iteration 1500: Cost = 0.2373317687156083\n",
      "Iteration 1600: Cost = 0.23639283789243387\n",
      "Iteration 1700: Cost = 0.23549421066473927\n",
      "Iteration 1800: Cost = 0.2346314932229928\n",
      "Iteration 1900: Cost = 0.2338010973409458\n",
      "Iteration 2000: Cost = 0.23300005918205594\n",
      "Iteration 2100: Cost = 0.23222590402113266\n",
      "Iteration 2200: Cost = 0.2314765441676921\n",
      "Iteration 2300: Cost = 0.2307502012177222\n",
      "Iteration 2400: Cost = 0.23004534627670142\n",
      "Iteration 0: Cost = 0.6931471805599453\n",
      "Iteration 100: Cost = 0.271199594332492\n",
      "Iteration 200: Cost = 0.25889154712320833\n",
      "Iteration 300: Cost = 0.2533765267766367\n",
      "Iteration 400: Cost = 0.2497358339270194\n",
      "Iteration 500: Cost = 0.2469429176306197\n",
      "Iteration 600: Cost = 0.24463294396369428\n",
      "Iteration 700: Cost = 0.2426361816438427\n",
      "Iteration 800: Cost = 0.24086013109647517\n",
      "Iteration 900: Cost = 0.2392487618830691\n",
      "Iteration 0: Cost = 0.6931471805599453\n",
      "Iteration 100: Cost = 0.271199594332492\n",
      "Iteration 200: Cost = 0.25889154712320833\n",
      "Iteration 300: Cost = 0.2533765267766367\n",
      "Iteration 400: Cost = 0.2497358339270194\n",
      "Iteration 500: Cost = 0.2469429176306197\n",
      "Iteration 600: Cost = 0.24463294396369428\n",
      "Iteration 700: Cost = 0.2426361816438427\n",
      "Iteration 800: Cost = 0.24086013109647517\n",
      "Iteration 900: Cost = 0.2392487618830691\n",
      "Iteration 1000: Cost = 0.2377655676150862\n",
      "Iteration 1100: Cost = 0.23638554168406845\n",
      "Iteration 1200: Cost = 0.23509092517304334\n",
      "Iteration 1300: Cost = 0.23386873677499811\n",
      "Iteration 1400: Cost = 0.2327092433832223\n",
      "Iteration 0: Cost = 0.6931471805599453\n",
      "Iteration 100: Cost = 0.271199594332492\n",
      "Iteration 200: Cost = 0.25889154712320833\n",
      "Iteration 300: Cost = 0.2533765267766367\n",
      "Iteration 400: Cost = 0.2497358339270194\n",
      "Iteration 500: Cost = 0.2469429176306197\n",
      "Iteration 600: Cost = 0.24463294396369428\n",
      "Iteration 700: Cost = 0.2426361816438427\n",
      "Iteration 800: Cost = 0.24086013109647517\n",
      "Iteration 900: Cost = 0.2392487618830691\n",
      "Iteration 1000: Cost = 0.2377655676150862\n",
      "Iteration 1100: Cost = 0.23638554168406845\n",
      "Iteration 1200: Cost = 0.23509092517304334\n",
      "Iteration 1300: Cost = 0.23386873677499811\n",
      "Iteration 1400: Cost = 0.2327092433832223\n",
      "Iteration 1500: Cost = 0.23160497457571286\n",
      "Iteration 1600: Cost = 0.2305500707893173\n",
      "Iteration 1700: Cost = 0.2295398431493793\n",
      "Iteration 1800: Cost = 0.2285704697618251\n",
      "Iteration 1900: Cost = 0.22763878065091292\n",
      "Iteration 0: Cost = 0.6931471805599453\n",
      "Iteration 100: Cost = 0.271199594332492\n",
      "Iteration 200: Cost = 0.25889154712320833\n",
      "Iteration 300: Cost = 0.2533765267766367\n",
      "Iteration 400: Cost = 0.2497358339270194\n",
      "Iteration 500: Cost = 0.2469429176306197\n",
      "Iteration 600: Cost = 0.24463294396369428\n",
      "Iteration 700: Cost = 0.2426361816438427\n",
      "Iteration 800: Cost = 0.24086013109647517\n",
      "Iteration 900: Cost = 0.2392487618830691\n",
      "Iteration 1000: Cost = 0.2377655676150862\n",
      "Iteration 1100: Cost = 0.23638554168406845\n",
      "Iteration 1200: Cost = 0.23509092517304334\n",
      "Iteration 1300: Cost = 0.23386873677499811\n",
      "Iteration 1400: Cost = 0.2327092433832223\n",
      "Iteration 1500: Cost = 0.23160497457571286\n",
      "Iteration 1600: Cost = 0.2305500707893173\n",
      "Iteration 1700: Cost = 0.2295398431493793\n",
      "Iteration 1800: Cost = 0.2285704697618251\n",
      "Iteration 1900: Cost = 0.22763878065091292\n",
      "Iteration 2000: Cost = 0.22674210107648865\n",
      "Iteration 2100: Cost = 0.22587813499080184\n",
      "Iteration 2200: Cost = 0.22504487814414695\n",
      "Iteration 2300: Cost = 0.22424055402837384\n",
      "Iteration 2400: Cost = 0.2234635666694202\n"
     ]
    },
    {
     "data": {
      "image/png": "[encoded data removed]",
      "text/plain": [
       "<Figure size 640x480 with 1 Axes>"
      ]
     },
     "metadata": {},
     "output_type": "display_data"
    },
    {
     "name": "stdout",
     "output_type": "stream",
     "text": [
      "Optimal Alpha: 0.16000000000000003\n",
      "Optimal Num Iterations: 2500\n",
      "Max Accuracy: 0.8812021213906894\n"
     ]
    }
   ],
   "source": [
    "import numpy as np\n",
    "#from sklearn.linear_model import LogisticRegression\n",
    "from sklearn.metrics import accuracy_score\n",
    "import matplotlib.pyplot as plt\n",
    "from mpl_toolkits.mplot3d import Axes3D\n",
    "\n",
    "def calculate_accuracy(alpha, num_iter):\n",
    "    model = LogisticRegressionImplementation(learning_rate=alpha, num_iterations=num_iter)\n",
    "    model.fit(X_train_pca_df, Y_train)\n",
    "    Y_pred = model.predict(X_val_pca_df)\n",
    "    accuracy = accuracy_score(Y_val, Y_pred)\n",
    "    return accuracy\n",
    "\n",
    "\n",
    "alphas = np.arange(0.01, 0.2, 0.05)\n",
    "num_iters = np.arange(1000, 3000, 500)\n",
    "\n",
    "accuracies = np.zeros((len(alphas), len(num_iters)))\n",
    "max_accuracy = 0\n",
    "optimal_alpha = None\n",
    "optimal_num_iter = None\n",
    "\n",
    "for i, alpha in enumerate(alphas):\n",
    "    for j, num_iter in enumerate(num_iters):\n",
    "        accuracy = calculate_accuracy(alpha, num_iter)\n",
    "        accuracies[i, j] = accuracy\n",
    "        if accuracy > max_accuracy:\n",
    "            max_accuracy = accuracy\n",
    "            optimal_alpha = alpha\n",
    "            optimal_num_iter = num_iter\n",
    "\n",
    "alpha_mesh, num_iter_mesh = np.meshgrid(alphas, num_iters)\n",
    "\n",
    "fig = plt.figure()\n",
    "ax = fig.add_subplot(111, projection='3d')\n",
    "ax.plot_surface(alpha_mesh, num_iter_mesh, accuracies, cmap='viridis')\n",
    "\n",
    "ax.set_xlabel('Alpha')\n",
    "ax.set_ylabel('Num Iterations')\n",
    "ax.set_zlabel('Accuracy')\n",
    "\n",
    "plt.show()\n",
    "\n",
    "print(\"Optimal Alpha:\", optimal_alpha)\n",
    "print(\"Optimal Num Iterations:\", optimal_num_iter)\n",
    "print(\"Max Accuracy:\", max_accuracy)\n"
   ]
  },
  {
   "cell_type": "code",
   "execution_count": 16,
   "id": "2ffc3207-04a2-4662-b390-c2df67de1217",
   "metadata": {},
   "outputs": [
    {
     "data": {
      "text/plain": [
       "0.8921626399528579"
      ]
     },
     "execution_count": 16,
     "metadata": {},
     "output_type": "execute_result"
    }
   ],
   "source": [
    "max_accuracy"
   ]
  },
  {
   "cell_type": "code",
   "execution_count": 17,
   "id": "40a605d8-5611-4ebc-9721-dd927ef5b679",
   "metadata": {},
   "outputs": [
    {
     "data": {
      "text/plain": [
       "0.26"
      ]
     },
     "execution_count": 17,
     "metadata": {},
     "output_type": "execute_result"
    }
   ],
   "source": [
    "optimal_alpha"
   ]
  },
  {
   "cell_type": "code",
   "execution_count": 18,
   "id": "be27cb09-3728-4cc7-9f33-752349ec7afc",
   "metadata": {},
   "outputs": [
    {
     "data": {
      "text/plain": [
       "4500"
      ]
     },
     "execution_count": 18,
     "metadata": {},
     "output_type": "execute_result"
    }
   ],
   "source": [
    "optimal_num_iter"
   ]
  },
  {
   "cell_type": "code",
   "execution_count": null,
   "id": "efa52147-06f0-4826-8305-b851b96db224",
   "metadata": {},
   "outputs": [],
   "source": []
  },
  {
   "cell_type": "code",
   "execution_count": 19,
   "id": "226e30b7-bc44-4b10-aa65-e6de5fcf0dd4",
   "metadata": {},
   "outputs": [
    {
     "name": "stdout",
     "output_type": "stream",
     "text": [
      "F1 Score: 0.8523206325236404\n"
     ]
    }
   ],
   "source": [
    "from sklearn.metrics import f1_score\n",
    "\n",
    "\n",
    "\n",
    "# Calculate F1 score\n",
    "f1 = f1_score(Y_test, predictions, average='weighted')\n",
    "\n",
    "# Print F1 score\n",
    "print(\"F1 Score:\", f1)\n",
    "\n"
   ]
  },
  {
   "cell_type": "code",
   "execution_count": 20,
   "id": "c5c7a40d-ce85-4de5-b926-fcf9a9dabce9",
   "metadata": {},
   "outputs": [
    {
     "data": {
      "text/plain": [
       "Text(0.5, 1.0, 'Confusion Matrix')"
      ]
     },
     "execution_count": 20,
     "metadata": {},
     "output_type": "execute_result"
    },
    {
     "data": {
      "image/png": "[encoded data removed]",
      "text/plain": [
       "<Figure size 640x480 with 2 Axes>"
      ]
     },
     "metadata": {},
     "output_type": "display_data"
    }
   ],
   "source": [
    "from sklearn.metrics import confusion_matrix\n",
    "cf = confusion_matrix(Y_test,predictions)\n",
    "plt.figure()\n",
    "sns.heatmap(cf, annot=True)\n",
    "plt.xlabel('Prediction')\n",
    "plt.ylabel('Target')\n",
    "plt.title('Confusion Matrix')"
   ]
  },
  {
   "cell_type": "code",
   "execution_count": 21,
   "id": "38ee0a6c-2661-4e5f-9e2c-3a3dee5409e4",
   "metadata": {},
   "outputs": [
    {
     "name": "stdout",
     "output_type": "stream",
     "text": [
      "              precision    recall  f1-score   support\n",
      "\n",
      "           0       0.96      0.83      0.89      6533\n",
      "           1       0.61      0.89      0.72      1953\n",
      "\n",
      "    accuracy                           0.84      8486\n",
      "   macro avg       0.79      0.86      0.81      8486\n",
      "weighted avg       0.88      0.84      0.85      8486\n",
      "\n"
     ]
    }
   ],
   "source": [
    "from sklearn.metrics import classification_report, confusion_matrix\n",
    "print(classification_report(Y_test,predictions))"
   ]
  },
  {
   "cell_type": "code",
   "execution_count": null,
   "id": "51b601e8-30fb-47ed-9db0-d019c3a2533a",
   "metadata": {},
   "outputs": [],
   "source": []
  }
 ],
 "metadata": {
  "kernelspec": {
   "display_name": "Python 3 (ipykernel)",
   "language": "python",
   "name": "python3"
  },
  "language_info": {
   "codemirror_mode": {
    "name": "ipython",
    "version": 3
   },
   "file_extension": ".py",
   "mimetype": "text/x-python",
   "name": "python",
   "nbconvert_exporter": "python",
   "pygments_lexer": "ipython3",
   "version": "3.11.1"
  }
 },
 "nbformat": 4,
 "nbformat_minor": 5
}
